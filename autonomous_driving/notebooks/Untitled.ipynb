{
 "cells": [
  {
   "cell_type": "code",
   "execution_count": 1,
   "metadata": {},
   "outputs": [
    {
     "name": "stdout",
     "output_type": "stream",
     "text": [
      "Populating the interactive namespace from numpy and matplotlib\n"
     ]
    }
   ],
   "source": [
    "%pylab inline\n",
    "import os\n",
    "from moviepy.editor import *\n",
    "from ipywidgets import interact\n",
    "\n",
    "import cv2\n",
    "\n",
    "from jupyterthemes import jtplot\n",
    "jtplot.style()"
   ]
  },
  {
   "cell_type": "code",
   "execution_count": 10,
   "metadata": {},
   "outputs": [],
   "source": [
    "def alv_vision(image, rgb, thresh):\n",
    "    '''\n",
    "    Apply the basic color-based road segmentation algorithm used in \n",
    "    the autonomous land vehicle. \n",
    "    Args\n",
    "    image: color input image, dimension (n,m,3)\n",
    "    rgb: tri-color operation values, dimension (3)\n",
    "    thresh: threshold value for road segmentation\n",
    "    \n",
    "    Returns\n",
    "    mask: binary mask of the size (n, m), ones indicate road, zeros indicate non-road\n",
    "    '''\n",
    "    print(image.reshape(-1, 3))\n",
    "    return (np.dot(image.reshape(-1, 3), rgb) > thresh).reshape(image.shape[0], image.shape[1])\n"
   ]
  },
  {
   "cell_type": "code",
   "execution_count": 23,
   "metadata": {},
   "outputs": [],
   "source": [
    "def apply_alv_vision(t, thresh):\n",
    "    #Grab image\n",
    "    im = clip.get_frame(t)\n",
    "    \n",
    "    #Run alv vision algorithm\n",
    "    mask = alv_vision(im, rgb = [1, 0, -1], thresh = thresh)\n",
    "    \n",
    "    print(mask,mask.shape)\n",
    "    #Display mask on grayscale version of original image\n",
    "    print(\"gray color\",np.tile(np.expand_dims(cv2.cvtColor(im, cv2.COLOR_RGB2GRAY), axis=2), (1, 1, 3)))\n",
    "    im_gray = np.tile(np.expand_dims(cv2.cvtColor(im, cv2.COLOR_RGB2GRAY), axis=2), (1, 1, 3))\n",
    "    \n",
    "    #Shade road pixels\n",
    "    im_gray[:,:,1][mask] = 0.5*im_gray[:,:,1][mask] + 255*0.75\n",
    "    im_gray[:,:,2][mask] = 0.5*im_gray[:,:,2][mask] + 255*0.5\n",
    "    \n",
    "    #Show image\n",
    "    fig = figure(0, (18, 9))\n",
    "    imshow(im_gray); grid(0);"
   ]
  },
  {
   "cell_type": "code",
   "execution_count": 24,
   "metadata": {},
   "outputs": [
    {
     "data": {
      "application/vnd.jupyter.widget-view+json": {
       "model_id": "2298376c16d04eb89bb0a1bdf4efbd5d",
       "version_major": 2,
       "version_minor": 0
      },
      "text/plain": [
       "interactive(children=(IntSlider(value=5, description='t', max=10), IntSlider(value=0, description='thresh', ma…"
      ]
     },
     "metadata": {},
     "output_type": "display_data"
    },
    {
     "data": {
      "text/plain": [
       "<function __main__.apply_alv_vision(t, thresh)>"
      ]
     },
     "execution_count": 24,
     "metadata": {},
     "output_type": "execute_result"
    }
   ],
   "source": [
    "interact(apply_alv_vision, t = (0, 10), thresh = (-64, 64))"
   ]
  },
  {
   "cell_type": "code",
   "execution_count": null,
   "metadata": {},
   "outputs": [],
   "source": []
  }
 ],
 "metadata": {
  "kernelspec": {
   "display_name": "Python 3",
   "language": "python",
   "name": "python3"
  },
  "language_info": {
   "codemirror_mode": {
    "name": "ipython",
    "version": 3
   },
   "file_extension": ".py",
   "mimetype": "text/x-python",
   "name": "python",
   "nbconvert_exporter": "python",
   "pygments_lexer": "ipython3",
   "version": "3.7.3"
  }
 },
 "nbformat": 4,
 "nbformat_minor": 2
}
