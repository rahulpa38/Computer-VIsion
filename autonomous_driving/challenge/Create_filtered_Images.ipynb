{
 "cells": [
  {
   "cell_type": "code",
   "execution_count": 46,
   "metadata": {},
   "outputs": [
    {
     "name": "stdout",
     "output_type": "stream",
     "text": [
      "[255 255 255 255 255 253 255 251 255 253 253 255 255 255 255 255 254 255\n",
      " 132  62 209  65 207  87  62  50  34  35  43  28]\n"
     ]
    },
    {
     "data": {
      "image/png": "[encoded data removed]",
      "text/plain": [
       "<Figure size 432x288 with 1 Axes>"
      ]
     },
     "metadata": {
      "needs_background": "light"
     },
     "output_type": "display_data"
    }
   ],
   "source": [
    "import cv2;import os;\n",
    "import numpy as np\n",
    "import matplotlib.pyplot as plt\n",
    "data = np.genfromtxt('training/steering_angles.csv', delimiter = ',')\n",
    "frame_nums = data[:,0]\n",
    "steering_angles = data[:,1]\n",
    "for i,frame in enumerate(frame_nums):\n",
    "#     print(\"iter\")\n",
    "    if (i==500):\n",
    "        im_full = cv2.imread('training' + '/resized_images/' + str(int(frame)).zfill(4) + '.jpg',cv2.IMREAD_UNCHANGED)\n",
    "        plt.imshow(im_full[np.where(im_full[32:,5:50] > 244)])\n",
    "#         plt.imshow(im_full[32:,5:50],cmap = 'gray')\n",
    "        \n",
    "#     im_full = cv2.cvtColor(im_full, cv2.COLOR_RGB2GRAY)\n",
    "#     im_full = cv2.resize(im_full,(32,32))\n",
    "#     cv2.imwrite(os.path.join('training' + '/resized_images_32/' , str(int(frame)).zfill(4) + '.jpg'), im_full)\n",
    "#     cv2.waitKey(0)"
   ]
  },
  {
   "cell_type": "code",
   "execution_count": null,
   "metadata": {},
   "outputs": [],
   "source": []
  },
  {
   "cell_type": "code",
   "execution_count": null,
   "metadata": {},
   "outputs": [],
   "source": []
  }
 ],
 "metadata": {
  "kernelspec": {
   "display_name": "Python 3",
   "language": "python",
   "name": "python3"
  },
  "language_info": {
   "codemirror_mode": {
    "name": "ipython",
    "version": 3
   },
   "file_extension": ".py",
   "mimetype": "text/x-python",
   "name": "python",
   "nbconvert_exporter": "python",
   "pygments_lexer": "ipython3",
   "version": "3.7.3"
  }
 },
 "nbformat": 4,
 "nbformat_minor": 2
}
